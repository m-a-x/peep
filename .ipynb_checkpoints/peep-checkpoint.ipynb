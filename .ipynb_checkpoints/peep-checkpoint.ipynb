{
 "cells": [
  {
   "cell_type": "code",
   "execution_count": 73,
   "metadata": {
    "ExecuteTime": {
     "end_time": "2018-05-24T20:49:37.528177Z",
     "start_time": "2018-05-24T20:49:37.519200Z"
    },
    "init_cell": true
   },
   "outputs": [
    {
     "data": {
      "text/html": [
       "<style>.container { width:70% !important; }</style>"
      ],
      "text/plain": [
       "<IPython.core.display.HTML object>"
      ]
     },
     "metadata": {},
     "output_type": "display_data"
    }
   ],
   "source": [
    "from PIL import Image\n",
    "from matplotlib import pyplot as plt\n",
    "from scipy.misc import imresize\n",
    "from imageio import imwrite\n",
    "from sklearn.neighbors import KNeighborsClassifier as KNN\n",
    "from IPython.core.display import display, HTML\n",
    "import face_recognition_models as frm\n",
    "import face_recognition as fr\n",
    "import pandas as pd\n",
    "import numpy as np\n",
    "import threading\n",
    "import queue\n",
    "import glob\n",
    "import cv2\n",
    "import os\n",
    "\n",
    "%matplotlib inline\n",
    "display(HTML(\"<style>.container { width:70% !important; }</style>\"))"
   ]
  },
  {
   "cell_type": "code",
   "execution_count": 12,
   "metadata": {
    "ExecuteTime": {
     "end_time": "2018-05-24T20:06:20.028060Z",
     "start_time": "2018-05-24T20:06:20.023074Z"
    },
    "init_cell": true
   },
   "outputs": [],
   "source": [
    "def threads(num_threads, data, cb_run, *args, **kwargs):\n",
    "    \"\"\"\n",
    "    Threads any function with any data with as many threads as you want (be careful)\n",
    "\n",
    "    param num_threads: How many threads you want to Run\n",
    "    type num_threads: int\n",
    "    param data: The data that you want to parse through\n",
    "    type data: list\n",
    "    param cb_run: the function you want to use to parse the data\n",
    "    type cb_run: function\n",
    "    \"\"\"\n",
    "    task_list = []\n",
    "    Q = queue.Queue()\n",
    "    def _thread_run():\n",
    "        while True:\n",
    "            proc = Q.get()\n",
    "            try:\n",
    "                task_list.append(cb_run(proc, *args, **kwargs))\n",
    "            except Exception:\n",
    "                pass\n",
    "            Q.task_done()\n",
    "\n",
    "    for i in range(num_threads):\n",
    "        th = threading.Thread(target=_thread_run)\n",
    "        th.daemon = True\n",
    "        th.start()\n",
    "\n",
    "    for item in data:\n",
    "        Q.put(item)\n",
    "    Q.join()\n",
    "    \n",
    "    return task_list"
   ]
  },
  {
   "cell_type": "code",
   "execution_count": 13,
   "metadata": {
    "ExecuteTime": {
     "end_time": "2018-05-24T20:06:20.037060Z",
     "start_time": "2018-05-24T20:06:20.030056Z"
    },
    "init_cell": true
   },
   "outputs": [],
   "source": [
    "def get_list_dir_contents(path):\n",
    "    dir_contents = glob.glob(os.path.join(path, '*'))\n",
    "    return dir_contents"
   ]
  },
  {
   "cell_type": "code",
   "execution_count": 14,
   "metadata": {
    "ExecuteTime": {
     "end_time": "2018-05-24T20:06:20.048007Z",
     "start_time": "2018-05-24T20:06:20.039037Z"
    },
    "init_cell": true
   },
   "outputs": [],
   "source": [
    "def make_folder(fn):\n",
    "    \"\"\"\n",
    "    Creates a folder fn if it doesn't exist\n",
    "    \"\"\"\n",
    "    if os.path.exists(fn):\n",
    "        print('found existing directory:\\t', fn)\n",
    "    else:\n",
    "        print('created folder:\\t', fn)\n",
    "        os.makedirs(fn)"
   ]
  },
  {
   "cell_type": "code",
   "execution_count": 15,
   "metadata": {
    "ExecuteTime": {
     "end_time": "2018-05-24T20:06:20.055985Z",
     "start_time": "2018-05-24T20:06:20.050001Z"
    },
    "init_cell": true
   },
   "outputs": [],
   "source": [
    "def make_nested_folders(folder_structure=None):\n",
    "    \"\"\"\n",
    "    folder_structure (dict):  {'outer_folder1': ['subfolders', 'of', 'outer_folder1']}\n",
    "        Creates (in current dir):\n",
    "            outer_folder1/\n",
    "                      subfolders/\n",
    "                      of/\n",
    "                      outer_folder1/\n",
    "    \"\"\"\n",
    "    if folder_structure is not None:\n",
    "        for parent_folder, children in folder_structure.items():\n",
    "            make_folder(parent_folder)\n",
    "            for child_folder in children:\n",
    "                make_folder(parent_folder + '/' + child_folder)"
   ]
  },
  {
   "cell_type": "code",
   "execution_count": 21,
   "metadata": {
    "ExecuteTime": {
     "end_time": "2018-05-24T20:22:09.269267Z",
     "start_time": "2018-05-24T20:22:09.265296Z"
    },
    "init_cell": true
   },
   "outputs": [],
   "source": [
    "def prepare_env(class_names=['max', 'caleb', 'drew', 'arshia']):\n",
    "    make_nested_folders({\n",
    "        ENVIRONMENT_NAME: [DATA_FOLDER_NAME, MODEL_FOLDER_NAME]\n",
    "    })\n",
    "    for each_person in class_names:\n",
    "        person_folder = ENVIRONMENT_NAME + '/' + DATA_FOLDER_NAME + '/' + each_person\n",
    "        make_nested_folders({person_folder: ['imgs', 'processed_imgs', 'face_encodings']})"
   ]
  },
  {
   "cell_type": "code",
   "execution_count": 29,
   "metadata": {
    "ExecuteTime": {
     "end_time": "2018-05-24T20:31:54.261574Z",
     "start_time": "2018-05-24T20:31:54.256563Z"
    },
    "init_cell": true
   },
   "outputs": [],
   "source": [
    "def robust_bounding_boxes(img, model_type='hog'):\n",
    "    \"\"\"\n",
    "    Operates under the assumption that img likely has only 1 face\n",
    "    \"\"\"\n",
    "    attempts = 0\n",
    "    bounding_boxes = fr.face_locations(img)\n",
    "    downsample_pcts = [x**2 for x in np.linspace(.67, .97, 4)]\n",
    "    temp_best = bounding_boxes, img\n",
    "    while attempts < 4:\n",
    "        lower_res_img = imresize(img, downsample_pcts[attempts])\n",
    "        bounding_boxes = fr.face_locations(lower_res_img, model=model_type)\n",
    "        if len(bounding_boxes) == 1:\n",
    "            return lower_res_img, bounding_boxes[0]\n",
    "        elif len(bounding_boxes) > 1:\n",
    "            temp_best = lower_res_img, bounding_boxes[0]\n",
    "        attempts += 1\n",
    "    if len(temp_best[0]) > 1:\n",
    "        print('UNEXPECTED: Found', len(temp_best[0]), 'faces.\\n----> Only returning 1 bounding box')\n",
    "        return temp_best\n",
    "    else:\n",
    "        print('No faces found')\n",
    "        return img, None"
   ]
  },
  {
   "cell_type": "code",
   "execution_count": 40,
   "metadata": {
    "ExecuteTime": {
     "end_time": "2018-05-24T20:35:55.067916Z",
     "start_time": "2018-05-24T20:35:55.064895Z"
    },
    "init_cell": true
   },
   "outputs": [],
   "source": [
    "def process_persons_imgs(name='max'): # env\n",
    "    all_persons_img_paths = get_list_dir_contents(ENVIRONMENT_NAME + '/' + DATA_FOLDER_NAME + '/' + name + '/imgs') # fix\n",
    "    data = threads(8, all_persons_img_paths, process_img, name=name)\n",
    "    return data"
   ]
  },
  {
   "cell_type": "code",
   "execution_count": 41,
   "metadata": {
    "ExecuteTime": {
     "end_time": "2018-05-24T20:35:55.596873Z",
     "start_time": "2018-05-24T20:35:55.591862Z"
    },
    "init_cell": true
   },
   "outputs": [],
   "source": [
    "def process_img(img_path, name='max'):\n",
    "    img = fr.load_image_file(img_path)\n",
    "    resized_img, bounding_box = robust_bounding_boxes(img)\n",
    "    if '\\\\' in img_path: # fix\n",
    "        outpath = 'processed_imgs/PR_'.join(img_path.split('imgs\\\\'))\n",
    "    else:\n",
    "        outpath = 'processed_imgs/PR_'.join(img_path.split('imgs/'))\n",
    "    # insert further preprocessing here (synthetic data augmentation, etc)\n",
    "    if bounding_box != None:\n",
    "        imwrite(outpath, resized_img)\n",
    "        encoding = fr.face_encodings(resized_img, known_face_locations=[bounding_box], num_jitters=1)[0]\n",
    "        return {'t': bounding_box[0], 'b': bounding_box[2], 'l': bounding_box[3], 'r': bounding_box[1], 'outpath': outpath, 'encoding': encoding, 'name': name}\n",
    "    print('no faces detected:\\t', img_path)\n",
    "    return {'t': None, 'b': None, 'l': None, 'r': None, 'outpath': None, 'encoding': None, 'name': name}"
   ]
  },
  {
   "cell_type": "code",
   "execution_count": 42,
   "metadata": {
    "ExecuteTime": {
     "end_time": "2018-05-24T20:35:56.470852Z",
     "start_time": "2018-05-24T20:35:56.463878Z"
    },
    "init_cell": true
   },
   "outputs": [
    {
     "name": "stdout",
     "output_type": "stream",
     "text": [
      "found existing directory:\t default_env\n",
      "found existing directory:\t default_env/data\n",
      "found existing directory:\t default_env/models\n",
      "found existing directory:\t default_env/data/max\n",
      "found existing directory:\t default_env/data/max/imgs\n",
      "found existing directory:\t default_env/data/max/processed_imgs\n",
      "found existing directory:\t default_env/data/max/face_encodings\n",
      "found existing directory:\t default_env/data/caleb\n",
      "found existing directory:\t default_env/data/caleb/imgs\n",
      "found existing directory:\t default_env/data/caleb/processed_imgs\n",
      "found existing directory:\t default_env/data/caleb/face_encodings\n",
      "found existing directory:\t default_env/data/arshia\n",
      "found existing directory:\t default_env/data/arshia/imgs\n",
      "found existing directory:\t default_env/data/arshia/processed_imgs\n",
      "found existing directory:\t default_env/data/arshia/face_encodings\n",
      "found existing directory:\t default_env/data/drew\n",
      "found existing directory:\t default_env/data/drew/imgs\n",
      "found existing directory:\t default_env/data/drew/processed_imgs\n",
      "found existing directory:\t default_env/data/drew/face_encodings\n"
     ]
    }
   ],
   "source": [
    "ENVIRONMENT_NAME = 'default_env'\n",
    "DATA_FOLDER_NAME = 'data'\n",
    "MODEL_FOLDER_NAME = 'models'\n",
    "CLASS_NAMES = ['max', 'caleb', 'arshia', 'drew']\n",
    "prepare_env(CLASS_NAMES)"
   ]
  },
  {
   "cell_type": "code",
   "execution_count": 74,
   "metadata": {
    "ExecuteTime": {
     "end_time": "2018-05-24T20:51:22.971755Z",
     "start_time": "2018-05-24T20:50:24.942972Z"
    },
    "scrolled": true
   },
   "outputs": [
    {
     "name": "stderr",
     "output_type": "stream",
     "text": [
      "c:\\users\\the-slick\\appdata\\local\\programs\\python\\python36\\lib\\site-packages\\ipykernel_launcher.py:10: DeprecationWarning: `imresize` is deprecated!\n",
      "`imresize` is deprecated in SciPy 1.0.0, and will be removed in 1.2.0.\n",
      "Use ``skimage.transform.resize`` instead.\n",
      "  # Remove the CWD from sys.path while we load stuff.\n"
     ]
    },
    {
     "name": "stdout",
     "output_type": "stream",
     "text": [
      "Done with max\n",
      "Done with caleb\n",
      "Done with arshia\n",
      "Done with drew\n"
     ]
    }
   ],
   "source": [
    "all_data = []\n",
    "for name in CLASS_NAMES:\n",
    "    person_data = process_persons_imgs(name=name)\n",
    "    person_df = pd.DataFrame(person_data)\n",
    "    person_df.to_csv(ENVIRONMENT_NAME + '/' + DATA_FOLDER_NAME + '/' + name + '/face_encodings/encodings.csv', index=False)\n",
    "    print('Done with', name)\n",
    "    all_data.extend(person_data)\n",
    "all_df = pd.DataFrame(all_data)"
   ]
  },
  {
   "cell_type": "code",
   "execution_count": 75,
   "metadata": {
    "ExecuteTime": {
     "end_time": "2018-05-24T20:51:25.436536Z",
     "start_time": "2018-05-24T20:51:25.431544Z"
    }
   },
   "outputs": [
    {
     "data": {
      "text/plain": [
       "KNeighborsClassifier(algorithm='auto', leaf_size=30, metric='minkowski',\n",
       "           metric_params=None, n_jobs=1, n_neighbors=2, p=2,\n",
       "           weights='uniform')"
      ]
     },
     "execution_count": 75,
     "metadata": {},
     "output_type": "execute_result"
    }
   ],
   "source": [
    "knn = KNN(n_neighbors=2)\n",
    "knn.fit(all_df['encoding'].values.tolist(), all_df['name'].values)"
   ]
  },
  {
   "cell_type": "code",
   "execution_count": 76,
   "metadata": {
    "ExecuteTime": {
     "end_time": "2018-05-24T20:51:26.700730Z",
     "start_time": "2018-05-24T20:51:26.311349Z"
    }
   },
   "outputs": [
    {
     "name": "stderr",
     "output_type": "stream",
     "text": [
      "c:\\users\\the-slick\\appdata\\local\\programs\\python\\python36\\lib\\site-packages\\ipykernel_launcher.py:10: DeprecationWarning: `imresize` is deprecated!\n",
      "`imresize` is deprecated in SciPy 1.0.0, and will be removed in 1.2.0.\n",
      "Use ``skimage.transform.resize`` instead.\n",
      "  # Remove the CWD from sys.path while we load stuff.\n"
     ]
    },
    {
     "data": {
      "text/plain": [
       "array(['max'], dtype=object)"
      ]
     },
     "execution_count": 76,
     "metadata": {},
     "output_type": "execute_result"
    }
   ],
   "source": [
    "img = fr.load_image_file(ENVIRONMENT_NAME + '/data/test/max.jpg')\n",
    "resized_img, bounding_box = robust_bounding_boxes(img)\n",
    "encoding = fr.face_encodings(resized_img, known_face_locations=[bounding_box], num_jitters=1)[0]\n",
    "knn.predict([encoding])"
   ]
  },
  {
   "cell_type": "code",
   "execution_count": 77,
   "metadata": {
    "ExecuteTime": {
     "end_time": "2018-05-24T20:51:28.020273Z",
     "start_time": "2018-05-24T20:51:27.559482Z"
    }
   },
   "outputs": [
    {
     "name": "stderr",
     "output_type": "stream",
     "text": [
      "c:\\users\\the-slick\\appdata\\local\\programs\\python\\python36\\lib\\site-packages\\ipykernel_launcher.py:10: DeprecationWarning: `imresize` is deprecated!\n",
      "`imresize` is deprecated in SciPy 1.0.0, and will be removed in 1.2.0.\n",
      "Use ``skimage.transform.resize`` instead.\n",
      "  # Remove the CWD from sys.path while we load stuff.\n"
     ]
    },
    {
     "data": {
      "text/plain": [
       "array(['arshia'], dtype=object)"
      ]
     },
     "execution_count": 77,
     "metadata": {},
     "output_type": "execute_result"
    }
   ],
   "source": [
    "img = fr.load_image_file(ENVIRONMENT_NAME + '/data/test/arsh.jpg')\n",
    "resized_img, bounding_box = robust_bounding_boxes(img)\n",
    "encoding = fr.face_encodings(resized_img, known_face_locations=[bounding_box], num_jitters=1)[0]\n",
    "knn.predict([encoding])"
   ]
  },
  {
   "cell_type": "code",
   "execution_count": 78,
   "metadata": {
    "ExecuteTime": {
     "end_time": "2018-05-24T20:51:29.827435Z",
     "start_time": "2018-05-24T20:51:28.022237Z"
    }
   },
   "outputs": [
    {
     "name": "stderr",
     "output_type": "stream",
     "text": [
      "c:\\users\\the-slick\\appdata\\local\\programs\\python\\python36\\lib\\site-packages\\ipykernel_launcher.py:10: DeprecationWarning: `imresize` is deprecated!\n",
      "`imresize` is deprecated in SciPy 1.0.0, and will be removed in 1.2.0.\n",
      "Use ``skimage.transform.resize`` instead.\n",
      "  # Remove the CWD from sys.path while we load stuff.\n"
     ]
    },
    {
     "data": {
      "text/plain": [
       "array(['caleb'], dtype=object)"
      ]
     },
     "execution_count": 78,
     "metadata": {},
     "output_type": "execute_result"
    }
   ],
   "source": [
    "img = fr.load_image_file(ENVIRONMENT_NAME + '/data/test/caleb.jpg')\n",
    "resized_img, bounding_box = robust_bounding_boxes(img)\n",
    "encoding = fr.face_encodings(resized_img, known_face_locations=[bounding_box], num_jitters=1)[0]\n",
    "knn.predict([encoding])"
   ]
  },
  {
   "cell_type": "code",
   "execution_count": 79,
   "metadata": {
    "ExecuteTime": {
     "end_time": "2018-05-24T20:51:30.565435Z",
     "start_time": "2018-05-24T20:51:29.829405Z"
    }
   },
   "outputs": [
    {
     "name": "stderr",
     "output_type": "stream",
     "text": [
      "c:\\users\\the-slick\\appdata\\local\\programs\\python\\python36\\lib\\site-packages\\ipykernel_launcher.py:10: DeprecationWarning: `imresize` is deprecated!\n",
      "`imresize` is deprecated in SciPy 1.0.0, and will be removed in 1.2.0.\n",
      "Use ``skimage.transform.resize`` instead.\n",
      "  # Remove the CWD from sys.path while we load stuff.\n"
     ]
    },
    {
     "data": {
      "text/plain": [
       "array(['drew'], dtype=object)"
      ]
     },
     "execution_count": 79,
     "metadata": {},
     "output_type": "execute_result"
    }
   ],
   "source": [
    "img = fr.load_image_file(ENVIRONMENT_NAME + '/data/test/drew.jpg')\n",
    "resized_img, bounding_box = robust_bounding_boxes(img)\n",
    "encoding = fr.face_encodings(resized_img, known_face_locations=[bounding_box], num_jitters=1)[0]\n",
    "knn.predict([encoding])"
   ]
  }
 ],
 "metadata": {
  "celltoolbar": "Initialization Cell",
  "kernelspec": {
   "display_name": "Python 3",
   "language": "python",
   "name": "python3"
  },
  "language_info": {
   "codemirror_mode": {
    "name": "ipython",
    "version": 3
   },
   "file_extension": ".py",
   "mimetype": "text/x-python",
   "name": "python",
   "nbconvert_exporter": "python",
   "pygments_lexer": "ipython3",
   "version": "3.6.4"
  }
 },
 "nbformat": 4,
 "nbformat_minor": 2
}
