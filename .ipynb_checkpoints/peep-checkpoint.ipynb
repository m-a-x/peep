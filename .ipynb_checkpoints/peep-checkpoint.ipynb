{
 "cells": [
  {
   "cell_type": "code",
   "execution_count": 25,
   "metadata": {
    "ExecuteTime": {
     "end_time": "2018-05-22T03:57:09.742068Z",
     "start_time": "2018-05-22T03:57:09.729084Z"
    },
    "init_cell": true
   },
   "outputs": [
    {
     "data": {
      "text/html": [
       "<style>.container { width:70% !important; }</style>"
      ],
      "text/plain": [
       "<IPython.core.display.HTML object>"
      ]
     },
     "metadata": {},
     "output_type": "display_data"
    }
   ],
   "source": [
    "from PIL import Image\n",
    "from matplotlib import pyplot as plt\n",
    "from scipy.misc import imresize\n",
    "from imageio import imwrite\n",
    "from IPython.core.display import display, HTML\n",
    "import face_recognition_models as frm\n",
    "import face_recognition as fr\n",
    "import numpy as np\n",
    "import threading\n",
    "import queue\n",
    "import glob\n",
    "import cv2\n",
    "import os\n",
    "\n",
    "%matplotlib inline\n",
    "display(HTML(\"<style>.container { width:70% !important; }</style>\"))"
   ]
  },
  {
   "cell_type": "code",
   "execution_count": 27,
   "metadata": {
    "ExecuteTime": {
     "end_time": "2018-05-22T03:57:09.758025Z",
     "start_time": "2018-05-22T03:57:09.751015Z"
    },
    "init_cell": true
   },
   "outputs": [],
   "source": [
    "def threads(num_threads, data, cb_run, *args, **kwargs):\n",
    "    \"\"\"\n",
    "    Threads any function with any data with as many threads as you want (be careful)\n",
    "\n",
    "    param num_threads: How many threads you want to Run\n",
    "    type num_threads: int\n",
    "    param data: The data that you want to parse through\n",
    "    type data: list\n",
    "    param cb_run: the function you want to use to parse the data\n",
    "    type cb_run: function\n",
    "    \"\"\"\n",
    "    task_list = []\n",
    "    Q = queue.Queue()\n",
    "    def _thread_run():\n",
    "        while True:\n",
    "            proc = Q.get()\n",
    "            try:\n",
    "                task_list.append(cb_run(proc, *args, **kwargs))\n",
    "            except Exception:\n",
    "                pass\n",
    "            Q.task_done()\n",
    "\n",
    "    for i in range(num_threads):\n",
    "        th = threading.Thread(target=_thread_run)\n",
    "        th.daemon = True\n",
    "        th.start()\n",
    "\n",
    "    for item in data:\n",
    "        Q.put(item)\n",
    "    Q.join()\n",
    "    \n",
    "    return task_list"
   ]
  },
  {
   "cell_type": "code",
   "execution_count": 28,
   "metadata": {
    "ExecuteTime": {
     "end_time": "2018-05-22T03:57:09.768998Z",
     "start_time": "2018-05-22T03:57:09.759989Z"
    },
    "init_cell": true
   },
   "outputs": [],
   "source": [
    "def get_list_dir_contents(path):\n",
    "    dir_contents = glob.glob(os.path.join(path, '*'))\n",
    "    return dir_contents"
   ]
  },
  {
   "cell_type": "code",
   "execution_count": 29,
   "metadata": {
    "ExecuteTime": {
     "end_time": "2018-05-22T03:57:09.777975Z",
     "start_time": "2018-05-22T03:57:09.770980Z"
    },
    "init_cell": true
   },
   "outputs": [],
   "source": [
    "def make_folder(fn):\n",
    "    \"\"\"\n",
    "    Creates a folder fn if it doesn't exist\n",
    "    \"\"\"\n",
    "    if os.path.exists(fn):\n",
    "        print('found existing directory:\\t', fn)\n",
    "    else:\n",
    "        print('created folder:\\t', fn)\n",
    "        os.makedirs(fn)"
   ]
  },
  {
   "cell_type": "code",
   "execution_count": 30,
   "metadata": {
    "ExecuteTime": {
     "end_time": "2018-05-22T03:57:09.787942Z",
     "start_time": "2018-05-22T03:57:09.779955Z"
    },
    "init_cell": true
   },
   "outputs": [],
   "source": [
    "def make_nested_folders(folder_structure=None):\n",
    "    \"\"\"\n",
    "    folder_structure (dict):  {'outer_folder1': ['subfolders', 'of', 'outer_folder1']}\n",
    "        Creates (in current dir):\n",
    "            outer_folder1/\n",
    "                      subfolders/\n",
    "                      of/\n",
    "                      outer_folder1/\n",
    "    \"\"\"\n",
    "    if folder_structure is not None:\n",
    "        for parent_folder, children in folder_structure.items():\n",
    "            make_folder(parent_folder)\n",
    "            for child_folder in children:\n",
    "                make_folder(parent_folder + '/' + child_folder)"
   ]
  },
  {
   "cell_type": "code",
   "execution_count": 31,
   "metadata": {
    "ExecuteTime": {
     "end_time": "2018-05-22T03:57:09.796997Z",
     "start_time": "2018-05-22T03:57:09.788937Z"
    },
    "init_cell": true
   },
   "outputs": [],
   "source": [
    "def prepare_env(class_names= ['max']):\n",
    "    make_nested_folders({\n",
    "        ENVIRONMENT_NAME: [DATA_FOLDER_NAME, MODEL_FOLDER_NAME]\n",
    "    })\n",
    "    for each_person in class_names:\n",
    "        person_folder = ENVIRONMENT_NAME + '/' + DATA_FOLDER_NAME + '/' + each_person\n",
    "        make_nested_folders({person_folder: ['imgs', 'processed_imgs', 'face_encodings']})"
   ]
  },
  {
   "cell_type": "code",
   "execution_count": 36,
   "metadata": {
    "ExecuteTime": {
     "end_time": "2018-05-22T03:57:09.855843Z",
     "start_time": "2018-05-22T03:57:09.850857Z"
    },
    "init_cell": true
   },
   "outputs": [],
   "source": [
    "def robust_bounding_boxes(img, model_type='hog'):\n",
    "    \"\"\"\n",
    "    Operates under the assumption that img likely has only 1 face\n",
    "    \"\"\"\n",
    "    attempts = 0\n",
    "    bounding_boxes = fr.face_locations(img)\n",
    "    downsample_pcts = [x**2 for x in np.linspace(.67, .97, 4)]\n",
    "    temp_best = bounding_boxes, img\n",
    "    while attempts < 4:\n",
    "        lower_res_img = imresize(img, downsample_pcts[attempts])\n",
    "        bounding_boxes = fr.face_locations(lower_res_img, model=model_type)\n",
    "        if len(bounding_boxes) == 1:\n",
    "            return lower_res_img, bounding_boxes[0]\n",
    "        elif len(bounding_boxes) > 1:\n",
    "            temp_best = lower_res_img, bounding_boxes[0]\n",
    "        attempts += 1\n",
    "    if len(temp_best[0]) > 1:\n",
    "        print('UNEXPECTED: Found', len(temp_best[0]), 'faces.\\n----> Only returning 1 bounding box')\n",
    "        return temp_best\n",
    "    else:\n",
    "        print('No faces found')\n",
    "        return img, None"
   ]
  },
  {
   "cell_type": "code",
   "execution_count": 33,
   "metadata": {
    "ExecuteTime": {
     "end_time": "2018-05-22T03:57:09.816946Z",
     "start_time": "2018-05-22T03:57:09.809965Z"
    },
    "init_cell": true
   },
   "outputs": [],
   "source": [
    "def process_persons_imgs(name='max'): # env\n",
    "    all_persons_img_paths = get_list_dir_contents(ENVIRONMENT_NAME + '/' + DATA_FOLDER_NAME + '/' + name + '/imgs') # fix\n",
    "    data = threads(8, all_persons_img_paths, process_img)\n",
    "    return data"
   ]
  },
  {
   "cell_type": "code",
   "execution_count": 34,
   "metadata": {
    "ExecuteTime": {
     "end_time": "2018-05-22T03:57:09.828971Z",
     "start_time": "2018-05-22T03:57:09.817945Z"
    },
    "init_cell": true
   },
   "outputs": [],
   "source": [
    "def process_img(img_path, name='max'):\n",
    "    img = fr.load_image_file(img_path)\n",
    "    resized_img, bounding_box = robust_bounding_boxes(img)\n",
    "    if '\\\\' in img_path: # fix\n",
    "        outpath = 'processed_imgs/PR_'.join(img_path.split('imgs\\\\'))\n",
    "    else:\n",
    "        outpath = 'processed_imgs/PR_'.join(img_path.split('imgs/'))\n",
    "    # insert further preprocessing here (synthetic data augmentation, etc)\n",
    "    if bounding_box != None:\n",
    "        imwrite(outpath, resized_img)\n",
    "        encoding = fr.face_encodings(resized_img, known_face_locations=[bounding_box], num_jitters=1)\n",
    "        return {'t': bounding_box[0], 'b': bounding_box[2], 'l': bounding_box[3], 'r': bounding_box[1], 'outpath': outpath, 'encoding': encoding}\n",
    "    print('no faces detected:\\t', img_path)\n",
    "    return {'t': None, 'b': None, 'l': None, 'r': None, 'outpath': None, 'encoding': None}"
   ]
  },
  {
   "cell_type": "code",
   "execution_count": 35,
   "metadata": {
    "ExecuteTime": {
     "end_time": "2018-05-22T03:57:09.842878Z",
     "start_time": "2018-05-22T03:57:09.830909Z"
    },
    "init_cell": true
   },
   "outputs": [
    {
     "name": "stdout",
     "output_type": "stream",
     "text": [
      "found existing directory:\t default_env\n",
      "found existing directory:\t default_env/data\n",
      "found existing directory:\t default_env/models\n",
      "found existing directory:\t default_env/data/max\n",
      "found existing directory:\t default_env/data/max/imgs\n",
      "found existing directory:\t default_env/data/max/processed_imgs\n",
      "found existing directory:\t default_env/data/max/face_encodings\n"
     ]
    }
   ],
   "source": [
    "ENVIRONMENT_NAME = 'default_env'\n",
    "DATA_FOLDER_NAME = 'data'\n",
    "MODEL_FOLDER_NAME = 'models'\n",
    "prepare_env()"
   ]
  },
  {
   "cell_type": "code",
   "execution_count": 23,
   "metadata": {
    "ExecuteTime": {
     "end_time": "2018-05-22T03:57:09.719095Z",
     "start_time": "2018-05-22T03:47:24.291912Z"
    }
   },
   "outputs": [
    {
     "name": "stderr",
     "output_type": "stream",
     "text": [
      "c:\\users\\the-slick\\appdata\\local\\programs\\python\\python36\\lib\\site-packages\\ipykernel_launcher.py:10: DeprecationWarning: `imresize` is deprecated!\n",
      "`imresize` is deprecated in SciPy 1.0.0, and will be removed in 1.2.0.\n",
      "Use ``skimage.transform.resize`` instead.\n",
      "  # Remove the CWD from sys.path while we load stuff.\n"
     ]
    }
   ],
   "source": [
    "person_data = process_persons_imgs(name='max')"
   ]
  },
  {
   "cell_type": "code",
   "execution_count": 37,
   "metadata": {
    "ExecuteTime": {
     "end_time": "2018-05-22T04:03:02.312999Z",
     "start_time": "2018-05-22T04:03:02.307016Z"
    }
   },
   "outputs": [
    {
     "data": {
      "text/plain": [
       "{'t': 325,\n",
       " 'b': 511,\n",
       " 'l': 304,\n",
       " 'r': 489,\n",
       " 'outpath': 'default_env/data/max/processed_imgs/PR_20170408_123952(1) - Copy - Copy - Copy - Copy.jpg',\n",
       " 'encoding': [array([-0.08513367,  0.06522654,  0.06782659, -0.01546315, -0.00675822,\n",
       "          0.06281856, -0.03286202, -0.1078885 ,  0.2059442 , -0.07514574,\n",
       "          0.09266634,  0.01631441, -0.20897728,  0.03033489,  0.00726494,\n",
       "          0.04656952, -0.10076991, -0.16695994, -0.05510762, -0.09297561,\n",
       "         -0.00469096,  0.06527219, -0.06284109,  0.08451527, -0.1395053 ,\n",
       "         -0.2936753 , -0.07827049, -0.10171979,  0.05588707, -0.04053194,\n",
       "          0.0245885 ,  0.02029572, -0.21148096, -0.01495444, -0.00061015,\n",
       "          0.12370961, -0.07108559, -0.12583566,  0.24609461,  0.00434989,\n",
       "         -0.10185358,  0.00299108,  0.00378706,  0.26730436,  0.0962589 ,\n",
       "          0.0445571 ,  0.07571812, -0.07063815,  0.22819759, -0.26048413,\n",
       "          0.10347051,  0.18815698,  0.13794255,  0.0859111 ,  0.06199992,\n",
       "         -0.21461138,  0.05100859,  0.12431863, -0.23598833,  0.17338072,\n",
       "          0.06345606, -0.05754619, -0.01250267, -0.07017317,  0.12737416,\n",
       "          0.05063017, -0.07455299, -0.11509208,  0.19833049, -0.17455666,\n",
       "         -0.02618714,  0.08045892, -0.09342367, -0.27333805, -0.26086977,\n",
       "          0.12971929,  0.37694049,  0.21070133, -0.13454863,  0.05812449,\n",
       "          0.00982916, -0.03652565,  0.06020266,  0.07796695, -0.059486  ,\n",
       "         -0.04941993, -0.06625691,  0.05403616,  0.29174435,  0.07794888,\n",
       "         -0.03646212,  0.17098774,  0.02775291, -0.01636876, -0.02599157,\n",
       "          0.05738154, -0.07167915,  0.028567  , -0.12202536,  0.10447566,\n",
       "          0.00205098, -0.01292818, -0.01524035,  0.07528336, -0.21318746,\n",
       "          0.24561206, -0.01007442, -0.0986192 , -0.06682785, -0.04586969,\n",
       "         -0.19506045,  0.05388215,  0.23300256, -0.2874932 ,  0.17151515,\n",
       "          0.15205929,  0.07862237,  0.20633037,  0.01448225,  0.07189726,\n",
       "          0.05860356, -0.04673717, -0.26912853, -0.16269034,  0.0780213 ,\n",
       "         -0.03471636,  0.00584332,  0.08255133])]}"
      ]
     },
     "execution_count": 37,
     "metadata": {},
     "output_type": "execute_result"
    }
   ],
   "source": [
    "person_data[0]"
   ]
  },
  {
   "cell_type": "code",
   "execution_count": null,
   "metadata": {},
   "outputs": [],
   "source": []
  }
 ],
 "metadata": {
  "celltoolbar": "Initialization Cell",
  "kernelspec": {
   "display_name": "Python 3",
   "language": "python",
   "name": "python3"
  },
  "language_info": {
   "codemirror_mode": {
    "name": "ipython",
    "version": 3
   },
   "file_extension": ".py",
   "mimetype": "text/x-python",
   "name": "python",
   "nbconvert_exporter": "python",
   "pygments_lexer": "ipython3",
   "version": "3.6.4"
  }
 },
 "nbformat": 4,
 "nbformat_minor": 2
}
